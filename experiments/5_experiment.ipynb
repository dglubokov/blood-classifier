{
 "cells": [
  {
   "cell_type": "code",
   "execution_count": 1,
   "id": "90ae3e92",
   "metadata": {
    "ExecuteTime": {
     "end_time": "2022-01-10T00:00:44.094868Z",
     "start_time": "2022-01-10T00:00:41.508786Z"
    }
   },
   "outputs": [],
   "source": [
    "import os\n",
    "import gc\n",
    "import random\n",
    "import copy\n",
    "import time\n",
    "from collections import defaultdict\n",
    "import multiprocessing\n",
    "from pathlib import Path\n",
    "from copy import deepcopy\n",
    "\n",
    "import cv2\n",
    "import pandas as pd\n",
    "import numpy as np\n",
    "import matplotlib.pyplot as plt\n",
    "import torch\n",
    "import torch.nn as nn\n",
    "import torch.optim as optim\n",
    "from torch.utils.data import Dataset, DataLoader\n",
    "from torchvision.io import read_image\n",
    "from torch.optim import lr_scheduler\n",
    "from torchvision import datasets, models\n",
    "import albumentations as A\n",
    "from albumentations.pytorch import ToTensorV2\n",
    "from tqdm import tqdm"
   ]
  },
  {
   "cell_type": "code",
   "execution_count": 2,
   "id": "f8d369c7",
   "metadata": {
    "ExecuteTime": {
     "end_time": "2022-01-10T00:00:44.191083Z",
     "start_time": "2022-01-10T00:00:44.097401Z"
    }
   },
   "outputs": [
    {
     "name": "stdout",
     "output_type": "stream",
     "text": [
      "  4\n",
      "erythropoiesis\n",
      "      2\n",
      "    Proerythroblast\n",
      "    Erythroblast\n",
      " \n",
      "lymphoid\n",
      "      3\n",
      "    Immature Lymphocyte\n",
      "    Lymphocyte\n",
      "    Plasma Cell\n",
      " \n",
      "myeloid\n",
      "      2\n",
      "    myeloid_immature\n",
      "          4\n",
      "        Myeloblast\n",
      "        Metamyelocyte\n",
      "        Myelocyte\n",
      "        Promyelocyte\n",
      " \n",
      "    myeloid_mature\n",
      "          4\n",
      "        Neutrophil\n",
      "              2\n",
      "            Band Neutrophil\n",
      "            Segmented Neutrophil\n",
      " \n",
      "        Basophil\n",
      "        Eosinophil\n",
      "        Monocyte\n",
      " \n",
      " \n",
      "abnormal\n",
      "      6\n",
      "    Not Identifiable\n",
      "    Other Cell\n",
      "    Abnormal Eosinophil\n",
      "    Artefact\n",
      "    Smudge Cell\n",
      "    Faggott Cell\n",
      " \n",
      " \n"
     ]
    }
   ],
   "source": [
    "CELL_TYPES = {\n",
    "    'erythropoiesis': {\n",
    "        'Proerythroblast': 'PEB',\n",
    "        'Erythroblast': 'EBO',\n",
    "    },\n",
    "    'lymphoid': {\n",
    "        'Immature Lymphocyte': 'LYI',\n",
    "        'Lymphocyte': 'LYT',\n",
    "        'Plasma Cell': 'PLM',\n",
    "    },\n",
    "    'myeloid': {\n",
    "        'myeloid_immature': {\n",
    "            'Myeloblast': 'BLA',\n",
    "            'Metamyelocyte': 'MMZ',\n",
    "            'Myelocyte': 'MYB',\n",
    "            'Promyelocyte': 'PMO',\n",
    "        },\n",
    "        'myeloid_mature': {\n",
    "            'Neutrophil': {\n",
    "                'Band Neutrophil': 'NGB',\n",
    "                'Segmented Neutrophil': 'NGS',\n",
    "            },\n",
    "            'Basophil': 'BAS',\n",
    "            'Eosinophil': 'EOS',\n",
    "            'Monocyte': 'MON',\n",
    "        },\n",
    "    },\n",
    "    'abnormal': {\n",
    "        'Not Identifiable': 'NIF',\n",
    "        'Other Cell': 'OTH',\n",
    "        'Abnormal Eosinophil': 'ABE',\n",
    "        'Artefact': 'ART',\n",
    "        'Smudge Cell': 'KSC',\n",
    "        'Faggott Cell': 'FGC'\n",
    "    }\n",
    "}\n",
    "\n",
    "def get_number_of_classes(class_map: dict, depth: int = -1):\n",
    "    depth += 1\n",
    "    print(' ' * 4 * depth + ' ' * 2 + str(len(class_map.keys())))\n",
    "    for k, v in class_map.items():\n",
    "        print(' ' * 4 * depth + str(k))\n",
    "        if isinstance(v, dict):\n",
    "            get_number_of_classes(v, depth)\n",
    "    print(' ')\n",
    "\n",
    "get_number_of_classes(CELL_TYPES)"
   ]
  },
  {
   "cell_type": "markdown",
   "id": "86ed6763",
   "metadata": {},
   "source": [
    "# Extract from dataset"
   ]
  },
  {
   "cell_type": "code",
   "execution_count": 3,
   "id": "c18c35be",
   "metadata": {
    "ExecuteTime": {
     "end_time": "2022-01-10T00:00:44.199722Z",
     "start_time": "2022-01-10T00:00:44.193395Z"
    }
   },
   "outputs": [
    {
     "data": {
      "text/plain": [
       "PosixPath('datasets/BM_cytomorphology_data')"
      ]
     },
     "execution_count": 3,
     "metadata": {},
     "output_type": "execute_result"
    }
   ],
   "source": [
    "DATA_PATH = Path('./datasets/BM_cytomorphology_data/')\n",
    "DATA_PATH"
   ]
  },
  {
   "cell_type": "code",
   "execution_count": 4,
   "id": "b0bf8a4f",
   "metadata": {
    "ExecuteTime": {
     "end_time": "2022-01-10T00:00:44.951185Z",
     "start_time": "2022-01-10T00:00:44.202932Z"
    }
   },
   "outputs": [],
   "source": [
    "IMAGE_FILE_TYPE = '.jpg'\n",
    "\n",
    "def extract_class_names(class_map: dict, class_names: dict = dict()):\n",
    "    for v in class_map.values():\n",
    "        if isinstance(v, dict):\n",
    "            class_names.update(extract_class_names(v, class_names))\n",
    "        else:\n",
    "            class_names[v] = set()\n",
    "    return class_names\n",
    "\n",
    "CLASS_PATHS = extract_class_names(CELL_TYPES)\n",
    "\n",
    "for TYPE in DATA_PATH.iterdir():\n",
    "    if CLASS_PATHS.get(TYPE.name, None) is not None:\n",
    "        for path in TYPE.resolve().iterdir():\n",
    "            if path.is_dir():\n",
    "                for image in path.iterdir():\n",
    "                    image_path = image.__str__()\n",
    "                    if IMAGE_FILE_TYPE in image_path:\n",
    "                        CLASS_PATHS[TYPE.name].add(image_path)\n",
    "            else:\n",
    "                image_path = path.__str__()\n",
    "                if IMAGE_FILE_TYPE in image_path:\n",
    "                    CLASS_PATHS[TYPE.name].add(image_path)"
   ]
  },
  {
   "cell_type": "markdown",
   "id": "014edbae",
   "metadata": {},
   "source": [
    "# DataSet summary"
   ]
  },
  {
   "cell_type": "code",
   "execution_count": 5,
   "id": "82f95969",
   "metadata": {
    "ExecuteTime": {
     "end_time": "2022-01-10T00:00:45.232012Z",
     "start_time": "2022-01-10T00:00:44.953118Z"
    }
   },
   "outputs": [
    {
     "data": {
      "text/plain": [
       "<BarContainer object of 20 artists>"
      ]
     },
     "execution_count": 5,
     "metadata": {},
     "output_type": "execute_result"
    },
    {
     "data": {
      "image/png": "[encoded data removed]",
      "text/plain": [
       "<Figure size 720x720 with 1 Axes>"
      ]
     },
     "metadata": {
      "needs_background": "light"
     },
     "output_type": "display_data"
    }
   ],
   "source": [
    "plt.figure(figsize=(10, 10))\n",
    "plt.barh(list(CLASS_PATHS.keys()), [len(v) for v in CLASS_PATHS.values()], color='coral')"
   ]
  },
  {
   "cell_type": "markdown",
   "id": "5c304d4b",
   "metadata": {},
   "source": [
    "# Balancing and Preparing: Train, Validation and Test Samples"
   ]
  },
  {
   "cell_type": "code",
   "execution_count": 22,
   "id": "c4213acb",
   "metadata": {
    "ExecuteTime": {
     "end_time": "2022-01-10T06:11:05.722903Z",
     "start_time": "2022-01-10T06:11:04.853091Z"
    }
   },
   "outputs": [
    {
     "name": "stdout",
     "output_type": "stream",
     "text": [
      "[0, 1] erythropoiesis 2740\n",
      "[0, 1] lymphoid 7629\n",
      "[0, 1, 2, 3] myeloid_immature 3055\n",
      "[0, 1] Neutrophil 9968\n",
      "[0, 1, 2] myeloid_mature 4040\n",
      "[0, 1] myeloid 12120\n",
      "[0, 1] abnormal 3538\n",
      "[0, 1, 2, 3] root 5480\n"
     ]
    }
   ],
   "source": [
    "THRESHOLD_CLASS_SIZE = 1000\n",
    "TEST_RATIO = 0.1\n",
    "TRAIN_RATIO = 0.9\n",
    "DEPTH_MAX = 2\n",
    "\n",
    "def shuffle_dict(d):\n",
    "    l = list(d.items())\n",
    "    random.shuffle(l)\n",
    "    return dict(l)\n",
    "\n",
    "def slice_dict(d: dict, end: int, start: int = 0):\n",
    "    keys = list(d.keys())\n",
    "    if end == -1:\n",
    "        end = len(keys)\n",
    "    return {k: d[k] for k in keys[start:end]}\n",
    "\n",
    "def prepare_nested_samples(class_map: dict, parent_name: str = 'root', depth: int = 0):\n",
    "    result = {parent_name: {\n",
    "        'train': dict(),\n",
    "        'validation': dict(),\n",
    "        'test': dict(),\n",
    "    }}\n",
    "    \n",
    "    all_samples = dict()\n",
    "    MIN_SIZE = None\n",
    "    LABEL = 0\n",
    "    label_map = dict()\n",
    "\n",
    "    def pre_min_balancing(paths: dict, min_size: int) -> dict():\n",
    "        if len(paths) >= THRESHOLD_CLASS_SIZE:\n",
    "            if min_size is None or len(paths) < min_size:\n",
    "                min_size = len(paths)\n",
    "            paths = shuffle_dict(paths)\n",
    "            p_balanced = slice_dict(paths, min_size)\n",
    "            return p_balanced, min_size\n",
    "        return dict(), min_size\n",
    "\n",
    "    \n",
    "    for k, v in class_map.items():\n",
    "        if isinstance(v, dict):\n",
    "            sub_result = prepare_nested_samples(\n",
    "                class_map=v,\n",
    "                parent_name=k,\n",
    "                depth=depth+1\n",
    "            )\n",
    "            all_p = {p: LABEL for p in sub_result[k]['all']}\n",
    "            labeled_paths, MIN_SIZE = pre_min_balancing(all_p, MIN_SIZE)\n",
    "            if labeled_paths:\n",
    "                all_samples[LABEL] = labeled_paths\n",
    "                label_map[LABEL] = k\n",
    "                result.update(sub_result)\n",
    "                LABEL += 1\n",
    "        else:\n",
    "            paths = {p: LABEL for p in CLASS_PATHS[v]}\n",
    "            labeled_paths, MIN_SIZE = pre_min_balancing(paths, MIN_SIZE)\n",
    "            if labeled_paths:\n",
    "                all_samples[LABEL] = labeled_paths\n",
    "                label_map[LABEL] = k\n",
    "                LABEL += 1\n",
    "\n",
    "    # Slice samples.\n",
    "    all_balanced = dict()\n",
    "    print(list(label_map.keys()), parent_name, MIN_SIZE)\n",
    "    for label, paths in all_samples.items():\n",
    "        # Shuffle and slice.\n",
    "        part = shuffle_dict(slice_dict(shuffle_dict(paths), MIN_SIZE))\n",
    "\n",
    "        # Calculate sizes.\n",
    "        test_size = int(len(part) * TEST_RATIO)\n",
    "        train_size = int((len(part) - test_size) * TRAIN_RATIO)\n",
    "\n",
    "        # Assign samples categories.\n",
    "        train = slice_dict(part, train_size)\n",
    "        validation = slice_dict(part, -test_size, train_size)\n",
    "        test = slice_dict(part, -1, -test_size)\n",
    "        result[parent_name]['train'].update(train)\n",
    "        result[parent_name]['validation'].update(validation)\n",
    "        result[parent_name]['test'].update(test)\n",
    "\n",
    "        # Grab all.\n",
    "        all_balanced.update(train)\n",
    "        all_balanced.update(validation)\n",
    "        all_balanced.update(test)\n",
    "    \n",
    "    # Additional info.\n",
    "    result[parent_name]['label_map'] = label_map\n",
    "    result[parent_name]['all'] = all_balanced\n",
    "    result[parent_name]['class_number'] = MIN_SIZE\n",
    "    result[parent_name]['depth'] = depth\n",
    "    \n",
    "    return result\n",
    "\n",
    "PREPARED = prepare_nested_samples(CELL_TYPES)"
   ]
  },
  {
   "cell_type": "markdown",
   "id": "a7b83ca8",
   "metadata": {},
   "source": [
    "# Full dataset preparation"
   ]
  },
  {
   "cell_type": "code",
   "execution_count": 7,
   "id": "95d05f6d",
   "metadata": {
    "ExecuteTime": {
     "end_time": "2022-01-10T00:00:45.988901Z",
     "start_time": "2022-01-10T00:00:45.982255Z"
    }
   },
   "outputs": [],
   "source": [
    "# Augmentation pipeline\n",
    "TRANSFORM = A.Compose([\n",
    "    A.Rotate(p=0.8),\n",
    "    A.RandomBrightnessContrast(p=0.6),\n",
    "    A.RandomGamma(),\n",
    "    A.Blur(p=0.2),\n",
    "    A.Sharpen(),\n",
    "    ToTensorV2(),\n",
    "])"
   ]
  },
  {
   "cell_type": "code",
   "execution_count": 8,
   "id": "1c89674e",
   "metadata": {
    "ExecuteTime": {
     "end_time": "2022-01-10T00:00:46.002140Z",
     "start_time": "2022-01-10T00:00:45.992237Z"
    }
   },
   "outputs": [],
   "source": [
    "IMG_W = 256\n",
    "IMG_H = 256\n",
    "DIMENSION = (IMG_W, IMG_H)\n",
    "\n",
    "class ModifiedDataset(Dataset):\n",
    "    def __init__(self, paths, transform=None):\n",
    "        self.paths = paths\n",
    "        self.transform = transform\n",
    "\n",
    "    def __len__(self):\n",
    "        return len(self.paths)\n",
    "\n",
    "    def __getitem__(self, idx):\n",
    "        # Get by index.\n",
    "        image_path = list(self.paths.keys())[idx]\n",
    "        image = cv2.imread(image_path)\n",
    "        \n",
    "        # Resize for unified size.\n",
    "        image = cv2.resize(image, DIMENSION)\n",
    "        \n",
    "        # Convert to working color space.\n",
    "        image = cv2.cvtColor(image, cv2.COLOR_BGR2RGB)\n",
    "        \n",
    "        # Normilize image.\n",
    "        image = np.float32(image/255)\n",
    "\n",
    "        # Get image label\n",
    "        label = self.paths[image_path]\n",
    "        \n",
    "        if self.transform is not None:\n",
    "            image = self.transform(image=image)['image']\n",
    "        return image, label"
   ]
  },
  {
   "cell_type": "code",
   "execution_count": 9,
   "id": "4e3d11b9",
   "metadata": {
    "ExecuteTime": {
     "end_time": "2022-01-10T00:00:46.024040Z",
     "start_time": "2022-01-10T00:00:46.007686Z"
    }
   },
   "outputs": [],
   "source": [
    "# DON'T DELETE!!!!!\n",
    "# def visualize_augmentations(dataset, label_map, idx=0, samples=10, cols=5):\n",
    "#     dataset = copy.deepcopy(dataset)\n",
    "#     dataset.transform = A.Compose([t for t in dataset.transform if not isinstance(t, (A.Normalize, ToTensorV2))])\n",
    "#     rows = samples // cols\n",
    "#     figure, ax = plt.subplots(nrows=rows, ncols=cols, figsize=(10, 5))\n",
    "#     for i in range(samples):\n",
    "#         image, label = dataset[idx]\n",
    "#         ax.ravel()[i].imshow(image)\n",
    "#         ax.ravel()[i].set_axis_off()\n",
    "#     print('CLASS NAME: ', label_map[label])\n",
    "#     plt.show()\n",
    "\n",
    "# visualize_augmentations(\n",
    "#     train_dataset,\n",
    "#     DATASET['label_map'],\n",
    "#     random.randint(0, len(DATASET['train']))\n",
    "# )"
   ]
  },
  {
   "cell_type": "markdown",
   "id": "36bb9f1d",
   "metadata": {},
   "source": [
    "# Training"
   ]
  },
  {
   "cell_type": "code",
   "execution_count": 10,
   "id": "43f9f155",
   "metadata": {
    "ExecuteTime": {
     "end_time": "2022-01-10T00:00:46.037061Z",
     "start_time": "2022-01-10T00:00:46.026612Z"
    }
   },
   "outputs": [],
   "source": [
    "class MetricMonitor:\n",
    "    def __init__(self, float_precision=3):\n",
    "        self.float_precision = float_precision\n",
    "        self.reset()\n",
    "\n",
    "    def reset(self):\n",
    "        self.metrics = defaultdict(lambda: {\"val\": 0, \"count\": 0, \"avg\": 0})\n",
    "\n",
    "    def update(self, metric_name, val):\n",
    "        metric = self.metrics[metric_name]\n",
    "\n",
    "        metric[\"val\"] += val\n",
    "        metric[\"count\"] += 1\n",
    "        metric[\"avg\"] = metric[\"val\"] / metric[\"count\"]\n",
    "\n",
    "    def __str__(self):\n",
    "        return \" | \".join(\n",
    "            [\n",
    "                \"{metric_name}: {avg:.{float_precision}f}\".format(\n",
    "                    metric_name=metric_name, avg=metric[\"avg\"], float_precision=self.float_precision\n",
    "                )\n",
    "                for (metric_name, metric) in self.metrics.items()\n",
    "            ]\n",
    "        )"
   ]
  },
  {
   "cell_type": "code",
   "execution_count": 11,
   "id": "fa14d2fd",
   "metadata": {
    "ExecuteTime": {
     "end_time": "2022-01-10T00:00:46.049681Z",
     "start_time": "2022-01-10T00:00:46.039396Z"
    }
   },
   "outputs": [],
   "source": [
    "def train(train_loader, model, criterion, optimizer, epoch):\n",
    "    metric_monitor = MetricMonitor()\n",
    "    model.train()\n",
    "    stream = tqdm(train_loader)\n",
    "    for i, (train_images, target) in enumerate(stream, start=1):\n",
    "        # BATCH PREPARATION\n",
    "        X = train_images.to(DEVICE, non_blocking=True)\n",
    "        y = target.to(DEVICE, non_blocking=True).long()\n",
    "        \n",
    "        # zero the parameter gradients\n",
    "        optimizer.zero_grad()\n",
    "        \n",
    "        # forward + backward + optimize\n",
    "        y_preds = model(X)\n",
    "        loss = criterion(y_preds, y)\n",
    "        if i == len(train_loader):\n",
    "            loss_save = loss.item()\n",
    "        metric_monitor.update(\"Loss\", loss.item())\n",
    "        loss.backward()\n",
    "        optimizer.step()\n",
    "        \n",
    "        # Output\n",
    "        stream.set_description(\n",
    "            \"Epoch: {epoch}. Train.      {metric_monitor}\".format(epoch=epoch+1, metric_monitor=metric_monitor)\n",
    "        )\n",
    "        \n",
    "    return loss_save"
   ]
  },
  {
   "cell_type": "code",
   "execution_count": 12,
   "id": "da82f1cf",
   "metadata": {
    "ExecuteTime": {
     "end_time": "2022-01-10T00:00:46.065043Z",
     "start_time": "2022-01-10T00:00:46.051997Z"
    }
   },
   "outputs": [],
   "source": [
    "def validate(val_loader, model, criterion, epoch):\n",
    "    metric_monitor = MetricMonitor()\n",
    "    model.eval()\n",
    "    stream = tqdm(val_loader)\n",
    "    with torch.no_grad():\n",
    "        for i, (validation_images, target) in enumerate(stream, start=1):\n",
    "            X = validation_images.to(DEVICE, non_blocking=True)\n",
    "            y = target.to(DEVICE, non_blocking=True).long()\n",
    "            y_preds = model(X)\n",
    "            \n",
    "            # LOSS\n",
    "            loss = criterion(y_preds, y)\n",
    "            if i == len(val_loader):\n",
    "                loss_save = loss.item()\n",
    "            metric_monitor.update(\"Loss\", loss.item())\n",
    "\n",
    "            stream.set_description(\n",
    "                \"Epoch: {epoch}. Validation.    {metric_monitor}\".format(epoch=epoch+1, metric_monitor=metric_monitor)\n",
    "            )\n",
    "    return loss_save"
   ]
  },
  {
   "cell_type": "code",
   "execution_count": 13,
   "id": "62f348fc",
   "metadata": {
    "ExecuteTime": {
     "end_time": "2022-01-10T00:00:46.139141Z",
     "start_time": "2022-01-10T00:00:46.067538Z"
    }
   },
   "outputs": [],
   "source": [
    "DEVICE = torch.device(\"cuda:0\" if torch.cuda.is_available() else \"cpu\")\n",
    "\n",
    "BATCH_SIZE = 32\n",
    "NUM_WORKERS = 10\n",
    "\n",
    "EPOCHS = 10\n",
    "\n",
    "def inference(dataset, case_name: str = ''):\n",
    "    modes = {\n",
    "        'clean': {\n",
    "            'pretrained': False,\n",
    "            'transform': False,\n",
    "        },\n",
    "        'pretrained': {\n",
    "            'pretrained': True,\n",
    "            'transform': False,\n",
    "        },\n",
    "        'pretrained_augmentated': {\n",
    "            'pretrained': True,\n",
    "            'transform': True,\n",
    "        },\n",
    "    }\n",
    "    \n",
    "    NUM_CLASSES = len(dataset['label_map'])\n",
    "    \n",
    "    accuracy_summary = dict()\n",
    "    \n",
    "    if case_name != '':\n",
    "        case_name = '_' + case_name\n",
    "    \n",
    "    for m in modes:\n",
    "        pretrained = modes[m]['pretrained']\n",
    "        ALL_MODELS = {\n",
    "            'mobilenet': models.mobilenet_v3_large(pretrained=pretrained),\n",
    "            'resnet': models.resnet34(pretrained=pretrained),\n",
    "            'efficientnet': models.efficientnet_b2(pretrained=pretrained),\n",
    "            'regnet': models.regnet_y_800mf(pretrained=pretrained),\n",
    "        }\n",
    "        # TODO(dmtgk): Now system works only with ResNet model.\n",
    "        SELECTED = 'resnet'\n",
    "        MODEL = ALL_MODELS[SELECTED]\n",
    "    \n",
    "        # Change last layer if pretrained mode.\n",
    "        if pretrained:\n",
    "            if SELECTED == 'mobilenet':\n",
    "                arch = 'mobilenet_v3_large'\n",
    "                inverted_residual_setting, last_channel = models.mobilenetv3._mobilenet_v3_conf(arch)\n",
    "                MODEL.classifier[3] = nn.Linear(last_channel, NUM_CLASSES)\n",
    "            elif SELECTED == 'resnet' or SELECTED == 'regnet':\n",
    "                MODEL.fc = torch.nn.Linear(MODEL.fc.in_features, NUM_CLASSES)\n",
    "            elif SELECTED == 'efficientnet':\n",
    "                inverted_residual_setting = models.efficientnet._efficientnet_conf(width_mult=1.1, depth_mult=1.2)\n",
    "                lastconv_input_channels = inverted_residual_setting[-1].out_channels\n",
    "                lastconv_output_channels = 4 * lastconv_input_channels\n",
    "                MODEL.classifier[1] = nn.Linear(lastconv_output_channels, NUM_CLASSES)\n",
    "        MODEL.to(DEVICE)\n",
    "        criterion = nn.CrossEntropyLoss().to(DEVICE)\n",
    "        optimizer = optim.Adam(MODEL.parameters(), lr=0.0001)\n",
    "        \n",
    "        transform_selected = A.Compose([ToTensorV2()])\n",
    "        if modes[m]['transform']:\n",
    "            transform_selected = TRANSFORM\n",
    "    \n",
    "        train_dataset = ModifiedDataset(\n",
    "            paths=dataset['train'],\n",
    "            transform=transform_selected\n",
    "        )\n",
    "        val_dataset = ModifiedDataset(\n",
    "            paths=dataset['validation'],\n",
    "            transform=transform_selected\n",
    "        )\n",
    "\n",
    "        train_loader = DataLoader(\n",
    "            train_dataset,\n",
    "            batch_size=BATCH_SIZE,\n",
    "            shuffle=True,\n",
    "            num_workers=NUM_WORKERS,\n",
    "            pin_memory=True,\n",
    "        )\n",
    "        val_loader = DataLoader(\n",
    "            val_dataset,\n",
    "            batch_size=BATCH_SIZE,\n",
    "            shuffle=True,\n",
    "            num_workers=NUM_WORKERS,\n",
    "            pin_memory=True,\n",
    "        )\n",
    "\n",
    "        train_all_losses = list()\n",
    "        val_all_losses = list()\n",
    "        for epoch in range(EPOCHS):\n",
    "            train_loss = train(train_loader, MODEL, criterion, optimizer, epoch)\n",
    "            train_all_losses.append(train_loss)\n",
    "\n",
    "            val_loss = validate(val_loader, MODEL, criterion, epoch)\n",
    "            val_all_losses.append(val_loss)\n",
    "\n",
    "        # Loss rate by epoch.\n",
    "        fig, ax = plt.subplots(figsize=(10, 5))\n",
    "        ax.plot(train_all_losses, label=\"Train Loss\")\n",
    "        ax.plot(val_all_losses, label=\"Validation Loss\")\n",
    "        ax.legend()\n",
    "        plt.xlabel('Epochs')\n",
    "        plt.ylabel('Loss')\n",
    "        plt.title('Loss rate')\n",
    "        plt.savefig(os.path.join('results', SELECTED + '_' + m + case_name + '.png'))\n",
    "        \n",
    "        # Test.\n",
    "        test_transform = A.Compose([ToTensorV2()])\n",
    "        test_dataset = ModifiedDataset(\n",
    "            paths=dataset['test'],\n",
    "            transform=test_transform\n",
    "        )\n",
    "        test_loader = DataLoader(\n",
    "            test_dataset, batch_size=BATCH_SIZE, shuffle=False, num_workers=NUM_WORKERS, pin_memory=True,\n",
    "        )\n",
    "        \n",
    "        # Evaluate Test Data.\n",
    "        model = MODEL.eval()\n",
    "        correct = {label: 0 for label in dataset['label_map'].keys()}\n",
    "        total = {label: 0 for label in dataset['label_map'].keys()}\n",
    "        with torch.no_grad():\n",
    "            for data in test_loader:\n",
    "                test_images, labels = data\n",
    "                test_images = test_images.to(DEVICE, non_blocking=True)\n",
    "                labels = labels.to(DEVICE, non_blocking=True).long()\n",
    "                outputs = model(test_images)\n",
    "                _, predictions = torch.max(outputs, 1)\n",
    "\n",
    "                # Count correct predictions for the each class.\n",
    "                for label, prediction in zip(labels, predictions):\n",
    "                    if label == prediction:\n",
    "                        correct[label.item()] += 1\n",
    "                    total[label.item()] += 1\n",
    "        correct_summary = {dataset['label_map'][k]: v for k, v in correct.items()}\n",
    "        total_summary = {dataset['label_map'][k]: v for k, v in total.items()}\n",
    "        \n",
    "        # Get accuracy for each class.\n",
    "        accs = list()\n",
    "        for classname, correct_count in correct_summary.items():\n",
    "            predicted_count = total_summary[classname]\n",
    "            if predicted_count == 0:\n",
    "                predicted_count = 1\n",
    "            accuracy = 100 * float(correct_count) / predicted_count\n",
    "            accs.append(accuracy)\n",
    "#             print(\"{:5s} {:.1f} %\".format(classname, accuracy))\n",
    "#         print(f\"Total accuracy on all classes is {round(np.mean(accs), 2)} %\")\n",
    "        accuracy_summary[m] = np.mean(accs)\n",
    "        \n",
    "        # Free resources space.\n",
    "        del MODEL\n",
    "        gc.collect()\n",
    "        torch.cuda.empty_cache()\n",
    "    return accuracy_summary"
   ]
  },
  {
   "cell_type": "code",
   "execution_count": null,
   "id": "dba9ee84",
   "metadata": {
    "ExecuteTime": {
     "start_time": "2022-01-10T00:00:41.250Z"
    }
   },
   "outputs": [
    {
     "name": "stderr",
     "output_type": "stream",
     "text": [
      "Epoch: 1. Train.      Loss: 1.150: 100%|██████████| 555/555 [01:04<00:00,  8.56it/s]\n",
      "Epoch: 1. Validation.    Loss: 0.816: 100%|██████████| 62/62 [00:03<00:00, 18.54it/s]\n",
      "Epoch: 2. Train.      Loss: 0.704: 100%|██████████| 555/555 [01:04<00:00,  8.59it/s]\n",
      "Epoch: 2. Validation.    Loss: 1.037: 100%|██████████| 62/62 [00:03<00:00, 18.28it/s]\n",
      "Epoch: 3. Train.      Loss: 0.589: 100%|██████████| 555/555 [01:04<00:00,  8.60it/s]\n",
      "Epoch: 3. Validation.    Loss: 0.586: 100%|██████████| 62/62 [00:03<00:00, 17.86it/s]\n",
      "Epoch: 4. Train.      Loss: 0.526: 100%|██████████| 555/555 [01:04<00:00,  8.60it/s]\n",
      "Epoch: 4. Validation.    Loss: 0.612: 100%|██████████| 62/62 [00:03<00:00, 18.63it/s]\n",
      "Epoch: 5. Train.      Loss: 0.468: 100%|██████████| 555/555 [01:04<00:00,  8.62it/s]\n",
      "Epoch: 5. Validation.    Loss: 0.584: 100%|██████████| 62/62 [00:03<00:00, 17.93it/s]\n",
      "Epoch: 6. Train.      Loss: 0.421: 100%|██████████| 555/555 [01:04<00:00,  8.59it/s]\n",
      "Epoch: 6. Validation.    Loss: 0.707: 100%|██████████| 62/62 [00:03<00:00, 17.30it/s]\n",
      "Epoch: 7. Train.      Loss: 0.375: 100%|██████████| 555/555 [01:04<00:00,  8.63it/s]\n",
      "Epoch: 7. Validation.    Loss: 0.482: 100%|██████████| 62/62 [00:03<00:00, 18.47it/s]\n",
      "Epoch: 8. Train.      Loss: 0.324: 100%|██████████| 555/555 [01:04<00:00,  8.64it/s]\n",
      "Epoch: 8. Validation.    Loss: 0.631: 100%|██████████| 62/62 [00:03<00:00, 17.71it/s]\n",
      "Epoch: 9. Train.      Loss: 0.270: 100%|██████████| 555/555 [01:04<00:00,  8.61it/s]\n",
      "Epoch: 9. Validation.    Loss: 0.621: 100%|██████████| 62/62 [00:03<00:00, 17.48it/s]\n",
      "Epoch: 10. Train.      Loss: 0.216: 100%|██████████| 555/555 [01:04<00:00,  8.60it/s]\n",
      "Epoch: 10. Validation.    Loss: 0.596: 100%|██████████| 62/62 [00:03<00:00, 17.69it/s]\n",
      "Downloading: \"https://download.pytorch.org/models/efficientnet_b2_rwightman-bcdf34b7.pth\" to /home/aparfenenkova/.cache/torch/hub/checkpoints/efficientnet_b2_rwightman-bcdf34b7.pth\n"
     ]
    },
    {
     "data": {
      "application/vnd.jupyter.widget-view+json": {
       "model_id": "d8c13af915ff4a8d89156fcf2e9bb938",
       "version_major": 2,
       "version_minor": 0
      },
      "text/plain": [
       "HBox(children=(IntProgress(value=0, max=36882185), HTML(value='')))"
      ]
     },
     "metadata": {},
     "output_type": "display_data"
    },
    {
     "name": "stdout",
     "output_type": "stream",
     "text": [
      "\n"
     ]
    },
    {
     "name": "stderr",
     "output_type": "stream",
     "text": [
      "Downloading: \"https://download.pytorch.org/models/regnet_y_800mf-1b27b58c.pth\" to /home/aparfenenkova/.cache/torch/hub/checkpoints/regnet_y_800mf-1b27b58c.pth\n"
     ]
    },
    {
     "data": {
      "application/vnd.jupyter.widget-view+json": {
       "model_id": "9fa774b1d4af49c3a6bfb2f9c49fce60",
       "version_major": 2,
       "version_minor": 0
      },
      "text/plain": [
       "HBox(children=(IntProgress(value=0, max=25977049), HTML(value='')))"
      ]
     },
     "metadata": {},
     "output_type": "display_data"
    },
    {
     "name": "stdout",
     "output_type": "stream",
     "text": [
      "\n"
     ]
    },
    {
     "name": "stderr",
     "output_type": "stream",
     "text": [
      "Epoch: 1. Train.      Loss: 0.497: 100%|██████████| 555/555 [01:04<00:00,  8.61it/s]\n",
      "Epoch: 1. Validation.    Loss: 0.354: 100%|██████████| 62/62 [00:03<00:00, 18.15it/s]\n",
      "Epoch: 2. Train.      Loss: 0.309: 100%|██████████| 555/555 [01:04<00:00,  8.60it/s]\n",
      "Epoch: 2. Validation.    Loss: 0.367: 100%|██████████| 62/62 [00:03<00:00, 18.18it/s]\n",
      "Epoch: 3. Train.      Loss: 0.214: 100%|██████████| 555/555 [01:04<00:00,  8.58it/s]\n",
      "Epoch: 3. Validation.    Loss: 0.346: 100%|██████████| 62/62 [00:03<00:00, 18.09it/s]\n",
      "Epoch: 4. Train.      Loss: 0.140: 100%|██████████| 555/555 [01:04<00:00,  8.57it/s]\n",
      "Epoch: 4. Validation.    Loss: 0.454: 100%|██████████| 62/62 [00:03<00:00, 18.42it/s]\n",
      "Epoch: 5. Train.      Loss: 0.113: 100%|██████████| 555/555 [01:04<00:00,  8.61it/s]\n",
      "Epoch: 5. Validation.    Loss: 0.454: 100%|██████████| 62/62 [00:03<00:00, 18.39it/s]\n",
      "Epoch: 6. Train.      Loss: 0.078: 100%|██████████| 555/555 [01:04<00:00,  8.62it/s]\n",
      "Epoch: 6. Validation.    Loss: 0.511: 100%|██████████| 62/62 [00:03<00:00, 18.29it/s]\n",
      "Epoch: 7. Train.      Loss: 0.061: 100%|██████████| 555/555 [01:04<00:00,  8.60it/s]\n",
      "Epoch: 7. Validation.    Loss: 0.482: 100%|██████████| 62/62 [00:03<00:00, 17.99it/s]\n",
      "Epoch: 8. Train.      Loss: 0.057: 100%|██████████| 555/555 [01:04<00:00,  8.61it/s]\n",
      "Epoch: 8. Validation.    Loss: 0.517: 100%|██████████| 62/62 [00:03<00:00, 18.66it/s]\n",
      "Epoch: 9. Train.      Loss: 0.058: 100%|██████████| 555/555 [01:04<00:00,  8.61it/s]\n",
      "Epoch: 9. Validation.    Loss: 0.492: 100%|██████████| 62/62 [00:03<00:00, 18.59it/s]\n",
      "Epoch: 10. Train.      Loss: 0.036: 100%|██████████| 555/555 [01:04<00:00,  8.63it/s]\n",
      "Epoch: 10. Validation.    Loss: 0.525: 100%|██████████| 62/62 [00:03<00:00, 18.48it/s]\n",
      "Epoch: 1. Train.      Loss: 0.548: 100%|██████████| 555/555 [01:04<00:00,  8.62it/s]\n",
      "Epoch: 1. Validation.    Loss: 0.428: 100%|██████████| 62/62 [00:03<00:00, 16.90it/s]\n",
      "Epoch: 2. Train.      Loss: 0.403: 100%|██████████| 555/555 [01:04<00:00,  8.60it/s]\n",
      "Epoch: 2. Validation.    Loss: 0.387: 100%|██████████| 62/62 [00:03<00:00, 17.15it/s]\n",
      "Epoch: 3. Train.      Loss: 0.358: 100%|██████████| 555/555 [01:04<00:00,  8.59it/s]\n",
      "Epoch: 3. Validation.    Loss: 0.337: 100%|██████████| 62/62 [00:03<00:00, 17.02it/s]\n",
      "Epoch: 4. Train.      Loss: 0.329: 100%|██████████| 555/555 [01:04<00:00,  8.61it/s]\n",
      "Epoch: 4. Validation.    Loss: 0.368: 100%|██████████| 62/62 [00:03<00:00, 16.51it/s]\n",
      "Epoch: 5. Train.      Loss: 0.308: 100%|██████████| 555/555 [01:04<00:00,  8.58it/s]\n",
      "Epoch: 5. Validation.    Loss: 0.341: 100%|██████████| 62/62 [00:03<00:00, 17.16it/s]\n",
      "Epoch: 6. Train.      Loss: 0.287: 100%|██████████| 555/555 [01:04<00:00,  8.60it/s]\n",
      "Epoch: 6. Validation.    Loss: 0.357: 100%|██████████| 62/62 [00:03<00:00, 17.23it/s]\n",
      "Epoch: 7. Train.      Loss: 0.268: 100%|██████████| 555/555 [01:04<00:00,  8.56it/s]\n",
      "Epoch: 7. Validation.    Loss: 0.347: 100%|██████████| 62/62 [00:03<00:00, 16.39it/s]\n",
      "Epoch: 8. Train.      Loss: 0.260: 100%|██████████| 555/555 [01:04<00:00,  8.58it/s]\n",
      "Epoch: 8. Validation.    Loss: 0.303: 100%|██████████| 62/62 [00:03<00:00, 16.76it/s]\n",
      "Epoch: 9. Train.      Loss: 0.240: 100%|██████████| 555/555 [01:04<00:00,  8.60it/s]\n",
      "Epoch: 9. Validation.    Loss: 0.344: 100%|██████████| 62/62 [00:03<00:00, 17.01it/s]\n",
      "Epoch: 10. Train.      Loss: 0.226: 100%|██████████| 555/555 [01:04<00:00,  8.61it/s]\n",
      "Epoch: 10. Validation.    Loss: 0.340: 100%|██████████| 62/62 [00:03<00:00, 16.49it/s]\n",
      "Epoch: 1. Train.      Loss: 0.703: 100%|██████████| 139/139 [00:16<00:00,  8.20it/s]\n",
      "Epoch: 1. Validation.    Loss: 0.306: 100%|██████████| 16/16 [00:01<00:00,  9.02it/s]\n",
      "Epoch: 2. Train.      Loss: 0.207: 100%|██████████| 139/139 [00:16<00:00,  8.24it/s]\n",
      "Epoch: 2. Validation.    Loss: 0.241: 100%|██████████| 16/16 [00:01<00:00,  9.81it/s]\n",
      "Epoch: 3. Train.      Loss: 0.170: 100%|██████████| 139/139 [00:16<00:00,  8.23it/s]\n",
      "Epoch: 3. Validation.    Loss: 0.165: 100%|██████████| 16/16 [00:01<00:00,  9.52it/s]\n",
      "Epoch: 4. Train.      Loss: 0.148: 100%|██████████| 139/139 [00:17<00:00,  8.12it/s]\n",
      "Epoch: 4. Validation.    Loss: 0.169: 100%|██████████| 16/16 [00:01<00:00,  9.48it/s]\n",
      "Epoch: 5. Train.      Loss: 0.137: 100%|██████████| 139/139 [00:16<00:00,  8.30it/s]\n",
      "Epoch: 5. Validation.    Loss: 0.198: 100%|██████████| 16/16 [00:01<00:00,  9.67it/s]\n",
      "Epoch: 6. Train.      Loss: 0.126: 100%|██████████| 139/139 [00:16<00:00,  8.22it/s]\n",
      "Epoch: 6. Validation.    Loss: 0.159: 100%|██████████| 16/16 [00:01<00:00,  9.85it/s]\n",
      "Epoch: 7. Train.      Loss: 0.113: 100%|██████████| 139/139 [00:16<00:00,  8.21it/s]\n",
      "Epoch: 7. Validation.    Loss: 0.164: 100%|██████████| 16/16 [00:01<00:00,  9.64it/s]\n",
      "Epoch: 8. Train.      Loss: 0.106: 100%|██████████| 139/139 [00:16<00:00,  8.23it/s]\n",
      "Epoch: 8. Validation.    Loss: 0.197: 100%|██████████| 16/16 [00:01<00:00,  9.37it/s]\n",
      "Epoch: 9. Train.      Loss: 0.097: 100%|██████████| 139/139 [00:16<00:00,  8.24it/s]\n",
      "Epoch: 9. Validation.    Loss: 0.215: 100%|██████████| 16/16 [00:01<00:00,  9.89it/s]\n",
      "Epoch: 10. Train.      Loss: 0.094: 100%|██████████| 139/139 [00:16<00:00,  8.21it/s]\n",
      "Epoch: 10. Validation.    Loss: 0.301: 100%|██████████| 16/16 [00:01<00:00, 10.44it/s]\n",
      "Epoch: 1. Train.      Loss: 0.162: 100%|██████████| 139/139 [00:16<00:00,  8.18it/s]\n",
      "Epoch: 1. Validation.    Loss: 0.115: 100%|██████████| 16/16 [00:01<00:00, 10.24it/s]\n",
      "Epoch: 2. Train.      Loss: 0.062:  81%|████████  | 112/139 [00:13<00:03,  8.81it/s]"
     ]
    }
   ],
   "source": [
    "summary_table = pd.DataFrame()\n",
    "\n",
    "for case in PREPARED.keys():\n",
    "    mean_acc = inference(PREPARED[case], case)\n",
    "    mean_acc.update({'case': case})\n",
    "    summary_table = summary_table.append(pd.DataFrame([mean_acc]))\n",
    "\n",
    "summary_table = summary_table.append(pd.DataFrame([{\n",
    "    'clean': np.mean(summary_table['clean']),\n",
    "    'pretrained': np.mean(summary_table['pretrained']),\n",
    "    'pretrained_augmentated': np.mean(summary_table['pretrained_augmentated']),\n",
    "    'case': 'all',\n",
    "}]))\n",
    "\n",
    "summary_table.to_csv('summary.tsv', sep='\\t', index=False)"
   ]
  },
  {
   "cell_type": "code",
   "execution_count": null,
   "id": "250536e1",
   "metadata": {},
   "outputs": [],
   "source": []
  }
 ],
 "metadata": {
  "kernelspec": {
   "display_name": "Python 3",
   "language": "python",
   "name": "python3"
  },
  "language_info": {
   "codemirror_mode": {
    "name": "ipython",
    "version": 3
   },
   "file_extension": ".py",
   "mimetype": "text/x-python",
   "name": "python",
   "nbconvert_exporter": "python",
   "pygments_lexer": "ipython3",
   "version": "3.6.10"
  },
  "toc": {
   "base_numbering": 1,
   "nav_menu": {},
   "number_sections": true,
   "sideBar": true,
   "skip_h1_title": false,
   "title_cell": "Table of Contents",
   "title_sidebar": "Contents",
   "toc_cell": false,
   "toc_position": {},
   "toc_section_display": true,
   "toc_window_display": false
  }
 },
 "nbformat": 4,
 "nbformat_minor": 5
}
