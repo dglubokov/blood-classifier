{
 "cells": [
  {
   "cell_type": "markdown",
   "id": "exterior-theme",
   "metadata": {},
   "source": [
    "# Эксперимент 3\n",
    "\n",
    "Использование старой и новой выборки для **многоклассовой** классификации"
   ]
  },
  {
   "cell_type": "code",
   "execution_count": 37,
   "id": "quarterly-dialogue",
   "metadata": {},
   "outputs": [],
   "source": [
    "import os\n",
    "\n",
    "import pandas as pd"
   ]
  },
  {
   "cell_type": "markdown",
   "id": "configured-acceptance",
   "metadata": {},
   "source": [
    "## Шаг 1. Загрузка таблиц с выявленными признаками"
   ]
  },
  {
   "cell_type": "code",
   "execution_count": 180,
   "id": "german-buying",
   "metadata": {},
   "outputs": [],
   "source": [
    "def csv_extractor(path: str, class_name: str):\n",
    "    cells = pd.read_csv(path, delimiter=';')\n",
    "    cells = cells.drop(columns=cells.columns[0])\n",
    "    cells = cells.apply(lambda x: pd.to_numeric(x.astype(str).str.replace(',','.'), errors='coerce'))\n",
    "    cells[\"class\"] = class_name\n",
    "    return cells"
   ]
  },
  {
   "cell_type": "code",
   "execution_count": 181,
   "id": "wooden-rwanda",
   "metadata": {},
   "outputs": [],
   "source": [
    "def csv_preparetor(path: str, case: str):\n",
    "    all_cells = []\n",
    "    con_path = f'{path}{case}'\n",
    "    for file in os.listdir(con_path):\n",
    "        path = f'{con_path}/{file}'\n",
    "        \n",
    "        # example name: \"old_train_blasts.csv\"\n",
    "        class_name = file.split(sep='_')[-1].split(sep='.')[0]\n",
    "        \n",
    "        all_cells.append(csv_extractor(path, class_name))\n",
    "    return pd.concat(all_cells)\n"
   ]
  },
  {
   "cell_type": "code",
   "execution_count": 182,
   "id": "formed-smile",
   "metadata": {},
   "outputs": [],
   "source": [
    "TO_OLD = '../old_csv/'\n",
    "TO_NEW = '../new_csv/'\n",
    "\n",
    "test_old = csv_preparetor(TO_OLD, 'test')\n",
    "train_old = csv_preparetor(TO_OLD, 'train')\n",
    "\n",
    "test_new = csv_preparetor(TO_NEW, 'test')\n",
    "train_new = csv_preparetor(TO_NEW, 'train')\n",
    "train_new = train_new.fillna(0)"
   ]
  },
  {
   "cell_type": "code",
   "execution_count": 183,
   "id": "hungarian-foundation",
   "metadata": {},
   "outputs": [],
   "source": [
    "test_all = pd.concat([test_old, test_new])\n",
    "train_all = pd.concat([train_old, train_new])"
   ]
  },
  {
   "cell_type": "code",
   "execution_count": 184,
   "id": "regular-passage",
   "metadata": {
    "scrolled": true
   },
   "outputs": [
    {
     "data": {
      "text/plain": [
       "6"
      ]
     },
     "execution_count": 184,
     "metadata": {},
     "output_type": "execute_result"
    }
   ],
   "source": [
    "len(set(test_all.iloc[:,-1:].to_numpy().flatten()))"
   ]
  },
  {
   "cell_type": "code",
   "execution_count": 185,
   "id": "younger-composition",
   "metadata": {},
   "outputs": [],
   "source": [
    "def splitter(train_cells, test_cells):\n",
    "    X_train = train_cells.drop(columns=train_cells.columns[-1]).to_numpy()\n",
    "    y_train = train_cells.iloc[:,-1:].to_numpy().flatten()\n",
    "\n",
    "    X_test = test_cells.drop(columns=test_cells.columns[-1]).to_numpy()\n",
    "    y_test = test_cells.iloc[:,-1:].to_numpy().flatten()\n",
    "    \n",
    "    return (X_train, y_train, X_test, y_test)"
   ]
  },
  {
   "cell_type": "markdown",
   "id": "patient-alpha",
   "metadata": {},
   "source": [
    "## Шаг 2. KNN"
   ]
  },
  {
   "cell_type": "code",
   "execution_count": 186,
   "id": "educated-department",
   "metadata": {},
   "outputs": [],
   "source": [
    "from sklearn.neighbors import KNeighborsClassifier\n",
    "from sklearn.pipeline import make_pipeline\n",
    "from sklearn.preprocessing import StandardScaler\n",
    "\n",
    "def knn(X_train, y_train, X_test, y_test, n_neighbors=5):\n",
    "    neigh_pipe = make_pipeline(\n",
    "        StandardScaler(),\n",
    "        KNeighborsClassifier(n_neighbors=n_neighbors)\n",
    "    )\n",
    "    neigh_pipe.fit(X_train, y_train)\n",
    "    return neigh_pipe.score(X_test, y_test)"
   ]
  },
  {
   "cell_type": "markdown",
   "id": "steady-optimum",
   "metadata": {},
   "source": [
    "### Старая выборка"
   ]
  },
  {
   "cell_type": "code",
   "execution_count": 187,
   "id": "united-parcel",
   "metadata": {
    "scrolled": true
   },
   "outputs": [
    {
     "name": "stdout",
     "output_type": "stream",
     "text": [
      "Средняя точность по тестовой выборке: 0.58\n"
     ]
    }
   ],
   "source": [
    "X_train, y_train, X_test, y_test = splitter(train_old, test_old)\n",
    "print(\"Средняя точность по тестовой выборке:\", knn(X_train, y_train, X_test, y_test))"
   ]
  },
  {
   "cell_type": "markdown",
   "id": "tutorial-church",
   "metadata": {},
   "source": [
    "### Новая выборка"
   ]
  },
  {
   "cell_type": "code",
   "execution_count": 188,
   "id": "cheap-addition",
   "metadata": {
    "scrolled": true
   },
   "outputs": [
    {
     "name": "stdout",
     "output_type": "stream",
     "text": [
      "Средняя точность по тестовой выборке: 0.6153846153846154\n"
     ]
    }
   ],
   "source": [
    "X_train, y_train, X_test, y_test = splitter(train_new, test_new)\n",
    "print(\"Средняя точность по тестовой выборке:\", knn(X_train, y_train, X_test, y_test))"
   ]
  },
  {
   "cell_type": "markdown",
   "id": "earned-olive",
   "metadata": {},
   "source": [
    "### Старая + Новая выборки"
   ]
  },
  {
   "cell_type": "code",
   "execution_count": 189,
   "id": "middle-ghost",
   "metadata": {},
   "outputs": [
    {
     "name": "stdout",
     "output_type": "stream",
     "text": [
      "Средняя точность по тестовой выборке: 0.5882352941176471\n"
     ]
    }
   ],
   "source": [
    "X_train, y_train, X_test, y_test = splitter(train_all, test_all)\n",
    "print(\"Средняя точность по тестовой выборке:\", knn(X_train, y_train, X_test, y_test))"
   ]
  },
  {
   "cell_type": "markdown",
   "id": "falling-arctic",
   "metadata": {},
   "source": [
    "## Шаг 3. SVM"
   ]
  },
  {
   "cell_type": "code",
   "execution_count": 190,
   "id": "based-provincial",
   "metadata": {},
   "outputs": [],
   "source": [
    "from sklearn.svm import SVC\n",
    "\n",
    "def svc_helper(X_train, y_train, X_test, y_test):\n",
    "    svc_rbf = SVC(C=1.5, kernel='rbf', cache_size=1000)\n",
    "    \n",
    "    # Обучение\n",
    "    svc_rbf_pipe = make_pipeline(StandardScaler(), svc_rbf)\n",
    "    svc_rbf_pipe.fit(X_train, y_train)\n",
    "    \n",
    "    # Тестирование\n",
    "    return svc_rbf_pipe.score(X_test, y_test)"
   ]
  },
  {
   "cell_type": "markdown",
   "id": "catholic-commission",
   "metadata": {},
   "source": [
    "### Старая выборка"
   ]
  },
  {
   "cell_type": "code",
   "execution_count": 191,
   "id": "standing-married",
   "metadata": {},
   "outputs": [
    {
     "name": "stdout",
     "output_type": "stream",
     "text": [
      "Средняя точность по тестовой выборке: 0.6133333333333333\n"
     ]
    }
   ],
   "source": [
    "X_train, y_train, X_test, y_test = splitter(train_old, test_old)\n",
    "print(\"Средняя точность по тестовой выборке:\", svc_helper(X_train, y_train, X_test, y_test))"
   ]
  },
  {
   "cell_type": "markdown",
   "id": "martial-vacuum",
   "metadata": {},
   "source": [
    "### Новая выборка"
   ]
  },
  {
   "cell_type": "code",
   "execution_count": 192,
   "id": "concrete-pasta",
   "metadata": {},
   "outputs": [
    {
     "name": "stdout",
     "output_type": "stream",
     "text": [
      "Средняя точность по тестовой выборке: 0.7692307692307693\n"
     ]
    }
   ],
   "source": [
    "X_train, y_train, X_test, y_test = splitter(train_new, test_new)\n",
    "print(\"Средняя точность по тестовой выборке:\", svc_helper(X_train, y_train, X_test, y_test))"
   ]
  },
  {
   "cell_type": "markdown",
   "id": "hidden-johnson",
   "metadata": {},
   "source": [
    "### Старая + Новая выборки"
   ]
  },
  {
   "cell_type": "code",
   "execution_count": 193,
   "id": "corresponding-compact",
   "metadata": {},
   "outputs": [
    {
     "name": "stdout",
     "output_type": "stream",
     "text": [
      "Средняя точность по тестовой выборке: 0.7058823529411765\n"
     ]
    }
   ],
   "source": [
    "X_train, y_train, X_test, y_test = splitter(train_all, test_all)\n",
    "print(\"Средняя точность по тестовой выборке:\", svc_helper(X_train, y_train, X_test, y_test))"
   ]
  },
  {
   "cell_type": "markdown",
   "id": "jewish-given",
   "metadata": {},
   "source": [
    "## ШАГ 4. AutoML"
   ]
  },
  {
   "cell_type": "code",
   "execution_count": 194,
   "id": "golden-heading",
   "metadata": {},
   "outputs": [],
   "source": [
    "import evalml\n",
    "from evalml import AutoMLSearch#"
   ]
  },
  {
   "cell_type": "markdown",
   "id": "renewable-yield",
   "metadata": {},
   "source": [
    "### Старая выборка"
   ]
  },
  {
   "cell_type": "code",
   "execution_count": 195,
   "id": "swedish-deputy",
   "metadata": {},
   "outputs": [
    {
     "name": "stdout",
     "output_type": "stream",
     "text": [
      "Using default limit of max_batches=1.\n",
      "\n",
      "Generating pipelines to search over...\n",
      "*****************************\n",
      "* Beginning pipeline search *\n",
      "*****************************\n",
      "\n",
      "Optimizing for Log Loss Multiclass. \n",
      "Lower score is better.\n",
      "\n",
      "Using SequentialEngine to train and score pipelines.\n",
      "Searching up to 1 batches for a total of 9 pipelines. \n",
      "Allowed model families: extra_trees, lightgbm, decision_tree, random_forest, xgboost, catboost, linear_model\n",
      "\n"
     ]
    },
    {
     "data": {
      "application/vnd.jupyter.widget-view+json": {
       "model_id": "fbb20174d90144feb4d1ec68637025fd",
       "version_major": 2,
       "version_minor": 0
      },
      "text/plain": [
       "FigureWidget({\n",
       "    'data': [{'mode': 'lines+markers',\n",
       "              'name': 'Best Score',\n",
       "              'type'…"
      ]
     },
     "metadata": {},
     "output_type": "display_data"
    },
    {
     "name": "stdout",
     "output_type": "stream",
     "text": [
      "Batch 1: (1/9) Mode Baseline Multiclass Classificati... Elapsed:00:00\n",
      "\tStarting cross validation\n",
      "\tFinished cross validation - mean Log Loss Multiclass: 28.840\n",
      "Batch 1: (2/9) Decision Tree Classifier w/ Imputer      Elapsed:00:01\n",
      "\tStarting cross validation\n",
      "\tFinished cross validation - mean Log Loss Multiclass: 6.284\n",
      "Batch 1: (3/9) LightGBM Classifier w/ Imputer           Elapsed:00:08\n",
      "\tStarting cross validation\n",
      "\tFinished cross validation - mean Log Loss Multiclass: 1.481\n",
      "Batch 1: (4/9) Extra Trees Classifier w/ Imputer        Elapsed:00:22\n",
      "\tStarting cross validation\n",
      "\tFinished cross validation - mean Log Loss Multiclass: 1.047\n",
      "Batch 1: (5/9) Elastic Net Classifier w/ Imputer + S... Elapsed:00:31\n",
      "\tStarting cross validation\n",
      "\tFinished cross validation - mean Log Loss Multiclass: 1.797\n",
      "Batch 1: (6/9) CatBoost Classifier w/ Imputer           Elapsed:00:41\n",
      "\tStarting cross validation\n",
      "\tFinished cross validation - mean Log Loss Multiclass: 1.617\n",
      "Batch 1: (7/9) XGBoost Classifier w/ Imputer            Elapsed:00:51\n",
      "\tStarting cross validation\n",
      "\tFinished cross validation - mean Log Loss Multiclass: 1.040\n",
      "Batch 1: (8/9) Random Forest Classifier w/ Imputer      Elapsed:01:04\n",
      "\tStarting cross validation\n",
      "\tFinished cross validation - mean Log Loss Multiclass: 1.061\n",
      "Batch 1: (9/9) Logistic Regression Classifier w/ Imp... Elapsed:01:12\n",
      "\tStarting cross validation\n",
      "\tFinished cross validation - mean Log Loss Multiclass: 0.964\n",
      "\n",
      "Search finished after 01:24            \n",
      "Best pipeline: Logistic Regression Classifier w/ Imputer + Standard Scaler\n",
      "Best pipeline Log Loss Multiclass: 0.963894\n"
     ]
    }
   ],
   "source": [
    "X_train, y_train, X_test, y_test = splitter(train_old, test_old)\n",
    "automl = AutoMLSearch(X_train=X_train, y_train=y_train, problem_type='multiclass')\n",
    "automl.search()"
   ]
  },
  {
   "cell_type": "code",
   "execution_count": 196,
   "id": "severe-croatia",
   "metadata": {},
   "outputs": [
    {
     "data": {
      "text/html": [
       "<div>\n",
       "<style scoped>\n",
       "    .dataframe tbody tr th:only-of-type {\n",
       "        vertical-align: middle;\n",
       "    }\n",
       "\n",
       "    .dataframe tbody tr th {\n",
       "        vertical-align: top;\n",
       "    }\n",
       "\n",
       "    .dataframe thead th {\n",
       "        text-align: right;\n",
       "    }\n",
       "</style>\n",
       "<table border=\"1\" class=\"dataframe\">\n",
       "  <thead>\n",
       "    <tr style=\"text-align: right;\">\n",
       "      <th></th>\n",
       "      <th>id</th>\n",
       "      <th>pipeline_name</th>\n",
       "      <th>score</th>\n",
       "      <th>validation_score</th>\n",
       "      <th>percent_better_than_baseline</th>\n",
       "      <th>high_variance_cv</th>\n",
       "      <th>parameters</th>\n",
       "    </tr>\n",
       "  </thead>\n",
       "  <tbody>\n",
       "    <tr>\n",
       "      <th>0</th>\n",
       "      <td>8</td>\n",
       "      <td>Logistic Regression Classifier w/ Imputer + St...</td>\n",
       "      <td>0.963894</td>\n",
       "      <td>0.901006</td>\n",
       "      <td>96.657773</td>\n",
       "      <td>False</td>\n",
       "      <td>{'Imputer': {'categorical_impute_strategy': 'm...</td>\n",
       "    </tr>\n",
       "    <tr>\n",
       "      <th>1</th>\n",
       "      <td>6</td>\n",
       "      <td>XGBoost Classifier w/ Imputer</td>\n",
       "      <td>1.039568</td>\n",
       "      <td>1.003247</td>\n",
       "      <td>96.395381</td>\n",
       "      <td>False</td>\n",
       "      <td>{'Imputer': {'categorical_impute_strategy': 'm...</td>\n",
       "    </tr>\n",
       "    <tr>\n",
       "      <th>2</th>\n",
       "      <td>3</td>\n",
       "      <td>Extra Trees Classifier w/ Imputer</td>\n",
       "      <td>1.046773</td>\n",
       "      <td>1.038366</td>\n",
       "      <td>96.370396</td>\n",
       "      <td>False</td>\n",
       "      <td>{'Imputer': {'categorical_impute_strategy': 'm...</td>\n",
       "    </tr>\n",
       "    <tr>\n",
       "      <th>3</th>\n",
       "      <td>7</td>\n",
       "      <td>Random Forest Classifier w/ Imputer</td>\n",
       "      <td>1.061480</td>\n",
       "      <td>0.978424</td>\n",
       "      <td>96.319402</td>\n",
       "      <td>False</td>\n",
       "      <td>{'Imputer': {'categorical_impute_strategy': 'm...</td>\n",
       "    </tr>\n",
       "    <tr>\n",
       "      <th>4</th>\n",
       "      <td>2</td>\n",
       "      <td>LightGBM Classifier w/ Imputer</td>\n",
       "      <td>1.481486</td>\n",
       "      <td>1.374229</td>\n",
       "      <td>94.863063</td>\n",
       "      <td>False</td>\n",
       "      <td>{'Imputer': {'categorical_impute_strategy': 'm...</td>\n",
       "    </tr>\n",
       "    <tr>\n",
       "      <th>5</th>\n",
       "      <td>5</td>\n",
       "      <td>CatBoost Classifier w/ Imputer</td>\n",
       "      <td>1.617449</td>\n",
       "      <td>1.615219</td>\n",
       "      <td>94.391622</td>\n",
       "      <td>False</td>\n",
       "      <td>{'Imputer': {'categorical_impute_strategy': 'm...</td>\n",
       "    </tr>\n",
       "    <tr>\n",
       "      <th>6</th>\n",
       "      <td>4</td>\n",
       "      <td>Elastic Net Classifier w/ Imputer + Standard S...</td>\n",
       "      <td>1.796692</td>\n",
       "      <td>1.796780</td>\n",
       "      <td>93.770112</td>\n",
       "      <td>False</td>\n",
       "      <td>{'Imputer': {'categorical_impute_strategy': 'm...</td>\n",
       "    </tr>\n",
       "    <tr>\n",
       "      <th>7</th>\n",
       "      <td>1</td>\n",
       "      <td>Decision Tree Classifier w/ Imputer</td>\n",
       "      <td>6.284000</td>\n",
       "      <td>6.675106</td>\n",
       "      <td>78.210727</td>\n",
       "      <td>False</td>\n",
       "      <td>{'Imputer': {'categorical_impute_strategy': 'm...</td>\n",
       "    </tr>\n",
       "    <tr>\n",
       "      <th>8</th>\n",
       "      <td>0</td>\n",
       "      <td>Mode Baseline Multiclass Classification Pipeline</td>\n",
       "      <td>28.839878</td>\n",
       "      <td>28.839878</td>\n",
       "      <td>0.000000</td>\n",
       "      <td>False</td>\n",
       "      <td>{'Baseline Classifier': {'strategy': 'mode'}}</td>\n",
       "    </tr>\n",
       "  </tbody>\n",
       "</table>\n",
       "</div>"
      ],
      "text/plain": [
       "   id                                      pipeline_name      score  \\\n",
       "0   8  Logistic Regression Classifier w/ Imputer + St...   0.963894   \n",
       "1   6                      XGBoost Classifier w/ Imputer   1.039568   \n",
       "2   3                  Extra Trees Classifier w/ Imputer   1.046773   \n",
       "3   7                Random Forest Classifier w/ Imputer   1.061480   \n",
       "4   2                     LightGBM Classifier w/ Imputer   1.481486   \n",
       "5   5                     CatBoost Classifier w/ Imputer   1.617449   \n",
       "6   4  Elastic Net Classifier w/ Imputer + Standard S...   1.796692   \n",
       "7   1                Decision Tree Classifier w/ Imputer   6.284000   \n",
       "8   0   Mode Baseline Multiclass Classification Pipeline  28.839878   \n",
       "\n",
       "   validation_score  percent_better_than_baseline  high_variance_cv  \\\n",
       "0          0.901006                     96.657773             False   \n",
       "1          1.003247                     96.395381             False   \n",
       "2          1.038366                     96.370396             False   \n",
       "3          0.978424                     96.319402             False   \n",
       "4          1.374229                     94.863063             False   \n",
       "5          1.615219                     94.391622             False   \n",
       "6          1.796780                     93.770112             False   \n",
       "7          6.675106                     78.210727             False   \n",
       "8         28.839878                      0.000000             False   \n",
       "\n",
       "                                          parameters  \n",
       "0  {'Imputer': {'categorical_impute_strategy': 'm...  \n",
       "1  {'Imputer': {'categorical_impute_strategy': 'm...  \n",
       "2  {'Imputer': {'categorical_impute_strategy': 'm...  \n",
       "3  {'Imputer': {'categorical_impute_strategy': 'm...  \n",
       "4  {'Imputer': {'categorical_impute_strategy': 'm...  \n",
       "5  {'Imputer': {'categorical_impute_strategy': 'm...  \n",
       "6  {'Imputer': {'categorical_impute_strategy': 'm...  \n",
       "7  {'Imputer': {'categorical_impute_strategy': 'm...  \n",
       "8      {'Baseline Classifier': {'strategy': 'mode'}}  "
      ]
     },
     "execution_count": 196,
     "metadata": {},
     "output_type": "execute_result"
    }
   ],
   "source": [
    "automl.rankings"
   ]
  },
  {
   "cell_type": "code",
   "execution_count": 208,
   "id": "signed-start",
   "metadata": {},
   "outputs": [
    {
     "name": "stdout",
     "output_type": "stream",
     "text": [
      "Точность:  0.68\n"
     ]
    }
   ],
   "source": [
    "pipeline = automl.best_pipeline\n",
    "print(\"Точность: \", pipeline.score(X_test, y_test, ['F1 Micro'])['F1 Micro'])"
   ]
  },
  {
   "cell_type": "markdown",
   "id": "female-tiger",
   "metadata": {},
   "source": [
    "### Новая выборка"
   ]
  },
  {
   "cell_type": "code",
   "execution_count": 209,
   "id": "technical-seven",
   "metadata": {},
   "outputs": [
    {
     "name": "stdout",
     "output_type": "stream",
     "text": [
      "Using default limit of max_batches=1.\n",
      "\n",
      "Generating pipelines to search over...\n",
      "*****************************\n",
      "* Beginning pipeline search *\n",
      "*****************************\n",
      "\n",
      "Optimizing for Log Loss Multiclass. \n",
      "Lower score is better.\n",
      "\n",
      "Using SequentialEngine to train and score pipelines.\n",
      "Searching up to 1 batches for a total of 9 pipelines. \n",
      "Allowed model families: extra_trees, lightgbm, decision_tree, random_forest, xgboost, catboost, linear_model\n",
      "\n"
     ]
    },
    {
     "data": {
      "application/vnd.jupyter.widget-view+json": {
       "model_id": "7083332fe85f4c85b6f9101ad1fe7b5e",
       "version_major": 2,
       "version_minor": 0
      },
      "text/plain": [
       "FigureWidget({\n",
       "    'data': [{'mode': 'lines+markers',\n",
       "              'name': 'Best Score',\n",
       "              'type'…"
      ]
     },
     "metadata": {},
     "output_type": "display_data"
    },
    {
     "name": "stdout",
     "output_type": "stream",
     "text": [
      "Batch 1: (1/9) Mode Baseline Multiclass Classificati... Elapsed:00:00\n",
      "\tStarting cross validation\n",
      "\tFinished cross validation - mean Log Loss Multiclass: 28.890\n",
      "Batch 1: (2/9) Decision Tree Classifier w/ Imputer      Elapsed:00:01\n",
      "\tStarting cross validation\n",
      "\tFinished cross validation - mean Log Loss Multiclass: 4.967\n",
      "High coefficient of variation (cv >= 0.2) within cross validation scores. Decision Tree Classifier w/ Imputer may not perform as estimated on unseen data.\n",
      "Batch 1: (3/9) LightGBM Classifier w/ Imputer           Elapsed:00:08\n",
      "\tStarting cross validation\n",
      "\tFinished cross validation - mean Log Loss Multiclass: 0.899\n",
      "High coefficient of variation (cv >= 0.2) within cross validation scores. LightGBM Classifier w/ Imputer may not perform as estimated on unseen data.\n",
      "Batch 1: (4/9) Extra Trees Classifier w/ Imputer        Elapsed:00:22\n",
      "\tStarting cross validation\n",
      "\tFinished cross validation - mean Log Loss Multiclass: 0.817\n",
      "Batch 1: (5/9) Elastic Net Classifier w/ Imputer + S... Elapsed:00:30\n",
      "\tStarting cross validation\n",
      "\tFinished cross validation - mean Log Loss Multiclass: 1.799\n",
      "Batch 1: (6/9) CatBoost Classifier w/ Imputer           Elapsed:00:41\n",
      "\tStarting cross validation\n",
      "\tFinished cross validation - mean Log Loss Multiclass: 1.535\n",
      "Batch 1: (7/9) XGBoost Classifier w/ Imputer            Elapsed:00:51\n",
      "\tStarting cross validation\n",
      "\tFinished cross validation - mean Log Loss Multiclass: 0.651\n",
      "Batch 1: (8/9) Random Forest Classifier w/ Imputer      Elapsed:01:04\n",
      "\tStarting cross validation\n",
      "\tFinished cross validation - mean Log Loss Multiclass: 0.731\n",
      "Batch 1: (9/9) Logistic Regression Classifier w/ Imp... Elapsed:01:12\n",
      "\tStarting cross validation\n",
      "\tFinished cross validation - mean Log Loss Multiclass: 0.738\n",
      "High coefficient of variation (cv >= 0.2) within cross validation scores. Logistic Regression Classifier w/ Imputer + Standard Scaler may not perform as estimated on unseen data.\n",
      "\n",
      "Search finished after 01:25            \n",
      "Best pipeline: XGBoost Classifier w/ Imputer\n",
      "Best pipeline Log Loss Multiclass: 0.650996\n"
     ]
    }
   ],
   "source": [
    "X_train, y_train, X_test, y_test = splitter(train_new, test_new)\n",
    "automl = AutoMLSearch(X_train=X_train, y_train=y_train, problem_type='multiclass')\n",
    "automl.search()"
   ]
  },
  {
   "cell_type": "code",
   "execution_count": 210,
   "id": "federal-brunei",
   "metadata": {},
   "outputs": [
    {
     "data": {
      "text/html": [
       "<div>\n",
       "<style scoped>\n",
       "    .dataframe tbody tr th:only-of-type {\n",
       "        vertical-align: middle;\n",
       "    }\n",
       "\n",
       "    .dataframe tbody tr th {\n",
       "        vertical-align: top;\n",
       "    }\n",
       "\n",
       "    .dataframe thead th {\n",
       "        text-align: right;\n",
       "    }\n",
       "</style>\n",
       "<table border=\"1\" class=\"dataframe\">\n",
       "  <thead>\n",
       "    <tr style=\"text-align: right;\">\n",
       "      <th></th>\n",
       "      <th>id</th>\n",
       "      <th>pipeline_name</th>\n",
       "      <th>score</th>\n",
       "      <th>validation_score</th>\n",
       "      <th>percent_better_than_baseline</th>\n",
       "      <th>high_variance_cv</th>\n",
       "      <th>parameters</th>\n",
       "    </tr>\n",
       "  </thead>\n",
       "  <tbody>\n",
       "    <tr>\n",
       "      <th>0</th>\n",
       "      <td>6</td>\n",
       "      <td>XGBoost Classifier w/ Imputer</td>\n",
       "      <td>0.650996</td>\n",
       "      <td>0.767961</td>\n",
       "      <td>97.746632</td>\n",
       "      <td>False</td>\n",
       "      <td>{'Imputer': {'categorical_impute_strategy': 'm...</td>\n",
       "    </tr>\n",
       "    <tr>\n",
       "      <th>1</th>\n",
       "      <td>7</td>\n",
       "      <td>Random Forest Classifier w/ Imputer</td>\n",
       "      <td>0.731133</td>\n",
       "      <td>0.793487</td>\n",
       "      <td>97.469246</td>\n",
       "      <td>False</td>\n",
       "      <td>{'Imputer': {'categorical_impute_strategy': 'm...</td>\n",
       "    </tr>\n",
       "    <tr>\n",
       "      <th>2</th>\n",
       "      <td>8</td>\n",
       "      <td>Logistic Regression Classifier w/ Imputer + St...</td>\n",
       "      <td>0.738436</td>\n",
       "      <td>0.962803</td>\n",
       "      <td>97.443966</td>\n",
       "      <td>True</td>\n",
       "      <td>{'Imputer': {'categorical_impute_strategy': 'm...</td>\n",
       "    </tr>\n",
       "    <tr>\n",
       "      <th>3</th>\n",
       "      <td>3</td>\n",
       "      <td>Extra Trees Classifier w/ Imputer</td>\n",
       "      <td>0.817141</td>\n",
       "      <td>0.850752</td>\n",
       "      <td>97.171534</td>\n",
       "      <td>False</td>\n",
       "      <td>{'Imputer': {'categorical_impute_strategy': 'm...</td>\n",
       "    </tr>\n",
       "    <tr>\n",
       "      <th>4</th>\n",
       "      <td>2</td>\n",
       "      <td>LightGBM Classifier w/ Imputer</td>\n",
       "      <td>0.898655</td>\n",
       "      <td>1.030264</td>\n",
       "      <td>96.889382</td>\n",
       "      <td>True</td>\n",
       "      <td>{'Imputer': {'categorical_impute_strategy': 'm...</td>\n",
       "    </tr>\n",
       "    <tr>\n",
       "      <th>5</th>\n",
       "      <td>5</td>\n",
       "      <td>CatBoost Classifier w/ Imputer</td>\n",
       "      <td>1.535465</td>\n",
       "      <td>1.553938</td>\n",
       "      <td>94.685116</td>\n",
       "      <td>False</td>\n",
       "      <td>{'Imputer': {'categorical_impute_strategy': 'm...</td>\n",
       "    </tr>\n",
       "    <tr>\n",
       "      <th>6</th>\n",
       "      <td>4</td>\n",
       "      <td>Elastic Net Classifier w/ Imputer + Standard S...</td>\n",
       "      <td>1.799216</td>\n",
       "      <td>1.799058</td>\n",
       "      <td>93.772166</td>\n",
       "      <td>False</td>\n",
       "      <td>{'Imputer': {'categorical_impute_strategy': 'm...</td>\n",
       "    </tr>\n",
       "    <tr>\n",
       "      <th>7</th>\n",
       "      <td>1</td>\n",
       "      <td>Decision Tree Classifier w/ Imputer</td>\n",
       "      <td>4.966516</td>\n",
       "      <td>6.676376</td>\n",
       "      <td>82.808821</td>\n",
       "      <td>True</td>\n",
       "      <td>{'Imputer': {'categorical_impute_strategy': 'm...</td>\n",
       "    </tr>\n",
       "    <tr>\n",
       "      <th>8</th>\n",
       "      <td>0</td>\n",
       "      <td>Mode Baseline Multiclass Classification Pipeline</td>\n",
       "      <td>28.889911</td>\n",
       "      <td>28.889911</td>\n",
       "      <td>0.000000</td>\n",
       "      <td>False</td>\n",
       "      <td>{'Baseline Classifier': {'strategy': 'mode'}}</td>\n",
       "    </tr>\n",
       "  </tbody>\n",
       "</table>\n",
       "</div>"
      ],
      "text/plain": [
       "   id                                      pipeline_name      score  \\\n",
       "0   6                      XGBoost Classifier w/ Imputer   0.650996   \n",
       "1   7                Random Forest Classifier w/ Imputer   0.731133   \n",
       "2   8  Logistic Regression Classifier w/ Imputer + St...   0.738436   \n",
       "3   3                  Extra Trees Classifier w/ Imputer   0.817141   \n",
       "4   2                     LightGBM Classifier w/ Imputer   0.898655   \n",
       "5   5                     CatBoost Classifier w/ Imputer   1.535465   \n",
       "6   4  Elastic Net Classifier w/ Imputer + Standard S...   1.799216   \n",
       "7   1                Decision Tree Classifier w/ Imputer   4.966516   \n",
       "8   0   Mode Baseline Multiclass Classification Pipeline  28.889911   \n",
       "\n",
       "   validation_score  percent_better_than_baseline  high_variance_cv  \\\n",
       "0          0.767961                     97.746632             False   \n",
       "1          0.793487                     97.469246             False   \n",
       "2          0.962803                     97.443966              True   \n",
       "3          0.850752                     97.171534             False   \n",
       "4          1.030264                     96.889382              True   \n",
       "5          1.553938                     94.685116             False   \n",
       "6          1.799058                     93.772166             False   \n",
       "7          6.676376                     82.808821              True   \n",
       "8         28.889911                      0.000000             False   \n",
       "\n",
       "                                          parameters  \n",
       "0  {'Imputer': {'categorical_impute_strategy': 'm...  \n",
       "1  {'Imputer': {'categorical_impute_strategy': 'm...  \n",
       "2  {'Imputer': {'categorical_impute_strategy': 'm...  \n",
       "3  {'Imputer': {'categorical_impute_strategy': 'm...  \n",
       "4  {'Imputer': {'categorical_impute_strategy': 'm...  \n",
       "5  {'Imputer': {'categorical_impute_strategy': 'm...  \n",
       "6  {'Imputer': {'categorical_impute_strategy': 'm...  \n",
       "7  {'Imputer': {'categorical_impute_strategy': 'm...  \n",
       "8      {'Baseline Classifier': {'strategy': 'mode'}}  "
      ]
     },
     "execution_count": 210,
     "metadata": {},
     "output_type": "execute_result"
    }
   ],
   "source": [
    "automl.rankings"
   ]
  },
  {
   "cell_type": "code",
   "execution_count": 211,
   "id": "atmospheric-defense",
   "metadata": {},
   "outputs": [
    {
     "name": "stdout",
     "output_type": "stream",
     "text": [
      "Точность:  0.8012820512820514\n"
     ]
    }
   ],
   "source": [
    "pipeline = automl.best_pipeline\n",
    "print(\"Точность: \", pipeline.score(X_test, y_test, ['F1 Micro'])['F1 Micro'])"
   ]
  },
  {
   "cell_type": "markdown",
   "id": "convinced-spell",
   "metadata": {},
   "source": [
    "### Старая + Новая выборки"
   ]
  },
  {
   "cell_type": "code",
   "execution_count": 212,
   "id": "systematic-consideration",
   "metadata": {},
   "outputs": [
    {
     "name": "stdout",
     "output_type": "stream",
     "text": [
      "Using default limit of max_batches=1.\n",
      "\n",
      "Generating pipelines to search over...\n",
      "*****************************\n",
      "* Beginning pipeline search *\n",
      "*****************************\n",
      "\n",
      "Optimizing for Log Loss Multiclass. \n",
      "Lower score is better.\n",
      "\n",
      "Using SequentialEngine to train and score pipelines.\n",
      "Searching up to 1 batches for a total of 9 pipelines. \n",
      "Allowed model families: extra_trees, lightgbm, decision_tree, random_forest, xgboost, catboost, linear_model\n",
      "\n"
     ]
    },
    {
     "data": {
      "application/vnd.jupyter.widget-view+json": {
       "model_id": "3f27db20c00b4478aabfe543e8565211",
       "version_major": 2,
       "version_minor": 0
      },
      "text/plain": [
       "FigureWidget({\n",
       "    'data': [{'mode': 'lines+markers',\n",
       "              'name': 'Best Score',\n",
       "              'type'…"
      ]
     },
     "metadata": {},
     "output_type": "display_data"
    },
    {
     "name": "stdout",
     "output_type": "stream",
     "text": [
      "Batch 1: (1/9) Mode Baseline Multiclass Classificati... Elapsed:00:00\n",
      "\tStarting cross validation\n",
      "\tFinished cross validation - mean Log Loss Multiclass: 28.782\n",
      "Batch 1: (2/9) Decision Tree Classifier w/ Imputer      Elapsed:00:00\n",
      "\tStarting cross validation\n",
      "\tFinished cross validation - mean Log Loss Multiclass: 4.230\n",
      "Batch 1: (3/9) LightGBM Classifier w/ Imputer           Elapsed:00:08\n",
      "\tStarting cross validation\n",
      "\tFinished cross validation - mean Log Loss Multiclass: 1.059\n",
      "Batch 1: (4/9) Extra Trees Classifier w/ Imputer        Elapsed:00:29\n",
      "\tStarting cross validation\n",
      "\tFinished cross validation - mean Log Loss Multiclass: 0.975\n",
      "Batch 1: (5/9) Elastic Net Classifier w/ Imputer + S... Elapsed:00:37\n",
      "\tStarting cross validation\n",
      "\tFinished cross validation - mean Log Loss Multiclass: 1.796\n",
      "Batch 1: (6/9) CatBoost Classifier w/ Imputer           Elapsed:00:48\n",
      "\tStarting cross validation\n",
      "\tFinished cross validation - mean Log Loss Multiclass: 1.542\n",
      "Batch 1: (7/9) XGBoost Classifier w/ Imputer            Elapsed:00:59\n",
      "\tStarting cross validation\n",
      "\tFinished cross validation - mean Log Loss Multiclass: 0.799\n",
      "Batch 1: (8/9) Random Forest Classifier w/ Imputer      Elapsed:01:17\n",
      "\tStarting cross validation\n",
      "\tFinished cross validation - mean Log Loss Multiclass: 0.910\n",
      "Batch 1: (9/9) Logistic Regression Classifier w/ Imp... Elapsed:01:25\n",
      "\tStarting cross validation\n",
      "\tFinished cross validation - mean Log Loss Multiclass: 0.757\n",
      "\n",
      "Search finished after 01:37            \n",
      "Best pipeline: Logistic Regression Classifier w/ Imputer + Standard Scaler\n",
      "Best pipeline Log Loss Multiclass: 0.756995\n"
     ]
    }
   ],
   "source": [
    "X_train, y_train, X_test, y_test = splitter(train_all, test_all)\n",
    "automl = AutoMLSearch(X_train=X_train, y_train=y_train, problem_type='multiclass')\n",
    "automl.search()"
   ]
  },
  {
   "cell_type": "code",
   "execution_count": 213,
   "id": "induced-antique",
   "metadata": {},
   "outputs": [
    {
     "data": {
      "text/html": [
       "<div>\n",
       "<style scoped>\n",
       "    .dataframe tbody tr th:only-of-type {\n",
       "        vertical-align: middle;\n",
       "    }\n",
       "\n",
       "    .dataframe tbody tr th {\n",
       "        vertical-align: top;\n",
       "    }\n",
       "\n",
       "    .dataframe thead th {\n",
       "        text-align: right;\n",
       "    }\n",
       "</style>\n",
       "<table border=\"1\" class=\"dataframe\">\n",
       "  <thead>\n",
       "    <tr style=\"text-align: right;\">\n",
       "      <th></th>\n",
       "      <th>id</th>\n",
       "      <th>pipeline_name</th>\n",
       "      <th>score</th>\n",
       "      <th>validation_score</th>\n",
       "      <th>percent_better_than_baseline</th>\n",
       "      <th>high_variance_cv</th>\n",
       "      <th>parameters</th>\n",
       "    </tr>\n",
       "  </thead>\n",
       "  <tbody>\n",
       "    <tr>\n",
       "      <th>0</th>\n",
       "      <td>8</td>\n",
       "      <td>Logistic Regression Classifier w/ Imputer + St...</td>\n",
       "      <td>0.756995</td>\n",
       "      <td>0.810962</td>\n",
       "      <td>97.369929</td>\n",
       "      <td>False</td>\n",
       "      <td>{'Imputer': {'categorical_impute_strategy': 'm...</td>\n",
       "    </tr>\n",
       "    <tr>\n",
       "      <th>1</th>\n",
       "      <td>6</td>\n",
       "      <td>XGBoost Classifier w/ Imputer</td>\n",
       "      <td>0.798732</td>\n",
       "      <td>0.840912</td>\n",
       "      <td>97.224922</td>\n",
       "      <td>False</td>\n",
       "      <td>{'Imputer': {'categorical_impute_strategy': 'm...</td>\n",
       "    </tr>\n",
       "    <tr>\n",
       "      <th>2</th>\n",
       "      <td>7</td>\n",
       "      <td>Random Forest Classifier w/ Imputer</td>\n",
       "      <td>0.910061</td>\n",
       "      <td>0.934754</td>\n",
       "      <td>96.838125</td>\n",
       "      <td>False</td>\n",
       "      <td>{'Imputer': {'categorical_impute_strategy': 'm...</td>\n",
       "    </tr>\n",
       "    <tr>\n",
       "      <th>3</th>\n",
       "      <td>3</td>\n",
       "      <td>Extra Trees Classifier w/ Imputer</td>\n",
       "      <td>0.975396</td>\n",
       "      <td>0.986299</td>\n",
       "      <td>96.611127</td>\n",
       "      <td>False</td>\n",
       "      <td>{'Imputer': {'categorical_impute_strategy': 'm...</td>\n",
       "    </tr>\n",
       "    <tr>\n",
       "      <th>4</th>\n",
       "      <td>2</td>\n",
       "      <td>LightGBM Classifier w/ Imputer</td>\n",
       "      <td>1.058906</td>\n",
       "      <td>1.152651</td>\n",
       "      <td>96.320984</td>\n",
       "      <td>False</td>\n",
       "      <td>{'Imputer': {'categorical_impute_strategy': 'm...</td>\n",
       "    </tr>\n",
       "    <tr>\n",
       "      <th>5</th>\n",
       "      <td>5</td>\n",
       "      <td>CatBoost Classifier w/ Imputer</td>\n",
       "      <td>1.541947</td>\n",
       "      <td>1.542487</td>\n",
       "      <td>94.642726</td>\n",
       "      <td>False</td>\n",
       "      <td>{'Imputer': {'categorical_impute_strategy': 'm...</td>\n",
       "    </tr>\n",
       "    <tr>\n",
       "      <th>6</th>\n",
       "      <td>4</td>\n",
       "      <td>Elastic Net Classifier w/ Imputer + Standard S...</td>\n",
       "      <td>1.796046</td>\n",
       "      <td>1.796871</td>\n",
       "      <td>93.759898</td>\n",
       "      <td>False</td>\n",
       "      <td>{'Imputer': {'categorical_impute_strategy': 'm...</td>\n",
       "    </tr>\n",
       "    <tr>\n",
       "      <th>7</th>\n",
       "      <td>1</td>\n",
       "      <td>Decision Tree Classifier w/ Imputer</td>\n",
       "      <td>4.229614</td>\n",
       "      <td>4.155275</td>\n",
       "      <td>85.304817</td>\n",
       "      <td>False</td>\n",
       "      <td>{'Imputer': {'categorical_impute_strategy': 'm...</td>\n",
       "    </tr>\n",
       "    <tr>\n",
       "      <th>8</th>\n",
       "      <td>0</td>\n",
       "      <td>Mode Baseline Multiclass Classification Pipeline</td>\n",
       "      <td>28.782314</td>\n",
       "      <td>28.782314</td>\n",
       "      <td>0.000000</td>\n",
       "      <td>False</td>\n",
       "      <td>{'Baseline Classifier': {'strategy': 'mode'}}</td>\n",
       "    </tr>\n",
       "  </tbody>\n",
       "</table>\n",
       "</div>"
      ],
      "text/plain": [
       "   id                                      pipeline_name      score  \\\n",
       "0   8  Logistic Regression Classifier w/ Imputer + St...   0.756995   \n",
       "1   6                      XGBoost Classifier w/ Imputer   0.798732   \n",
       "2   7                Random Forest Classifier w/ Imputer   0.910061   \n",
       "3   3                  Extra Trees Classifier w/ Imputer   0.975396   \n",
       "4   2                     LightGBM Classifier w/ Imputer   1.058906   \n",
       "5   5                     CatBoost Classifier w/ Imputer   1.541947   \n",
       "6   4  Elastic Net Classifier w/ Imputer + Standard S...   1.796046   \n",
       "7   1                Decision Tree Classifier w/ Imputer   4.229614   \n",
       "8   0   Mode Baseline Multiclass Classification Pipeline  28.782314   \n",
       "\n",
       "   validation_score  percent_better_than_baseline  high_variance_cv  \\\n",
       "0          0.810962                     97.369929             False   \n",
       "1          0.840912                     97.224922             False   \n",
       "2          0.934754                     96.838125             False   \n",
       "3          0.986299                     96.611127             False   \n",
       "4          1.152651                     96.320984             False   \n",
       "5          1.542487                     94.642726             False   \n",
       "6          1.796871                     93.759898             False   \n",
       "7          4.155275                     85.304817             False   \n",
       "8         28.782314                      0.000000             False   \n",
       "\n",
       "                                          parameters  \n",
       "0  {'Imputer': {'categorical_impute_strategy': 'm...  \n",
       "1  {'Imputer': {'categorical_impute_strategy': 'm...  \n",
       "2  {'Imputer': {'categorical_impute_strategy': 'm...  \n",
       "3  {'Imputer': {'categorical_impute_strategy': 'm...  \n",
       "4  {'Imputer': {'categorical_impute_strategy': 'm...  \n",
       "5  {'Imputer': {'categorical_impute_strategy': 'm...  \n",
       "6  {'Imputer': {'categorical_impute_strategy': 'm...  \n",
       "7  {'Imputer': {'categorical_impute_strategy': 'm...  \n",
       "8      {'Baseline Classifier': {'strategy': 'mode'}}  "
      ]
     },
     "execution_count": 213,
     "metadata": {},
     "output_type": "execute_result"
    }
   ],
   "source": [
    "automl.rankings"
   ]
  },
  {
   "cell_type": "code",
   "execution_count": 214,
   "id": "grateful-anger",
   "metadata": {},
   "outputs": [
    {
     "name": "stdout",
     "output_type": "stream",
     "text": [
      "Точность:  0.7516339869281046\n"
     ]
    }
   ],
   "source": [
    "pipeline = automl.best_pipeline\n",
    "print(\"Точность: \", pipeline.score(X_test, y_test, ['F1 Micro'])['F1 Micro'])"
   ]
  },
  {
   "cell_type": "code",
   "execution_count": null,
   "id": "listed-photography",
   "metadata": {},
   "outputs": [],
   "source": []
  }
 ],
 "metadata": {
  "kernelspec": {
   "display_name": "Python 3",
   "language": "python",
   "name": "python3"
  },
  "language_info": {
   "codemirror_mode": {
    "name": "ipython",
    "version": 3
   },
   "file_extension": ".py",
   "mimetype": "text/x-python",
   "name": "python",
   "nbconvert_exporter": "python",
   "pygments_lexer": "ipython3",
   "version": "3.9.5"
  }
 },
 "nbformat": 4,
 "nbformat_minor": 5
}
